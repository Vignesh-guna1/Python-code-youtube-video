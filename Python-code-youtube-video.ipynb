{
 "cells": [
  {
   "cell_type": "markdown",
   "id": "ccd68fa5-a2bd-404f-847e-3a3e7d02b997",
   "metadata": {},
   "source": [
    "### project-7 : python script to download youtube videos (input, if, else)libray "
   ]
  },
  {
   "cell_type": "markdown",
   "id": "aac67ede-f6cf-41a6-b005-46300ef9b627",
   "metadata": {},
   "source": [
    "#### 1 install required Packages "
   ]
  },
  {
   "cell_type": "code",
   "execution_count": 3,
   "id": "4a1eb951-17ea-4df1-8913-6039cfc18682",
   "metadata": {},
   "outputs": [
    {
     "name": "stdout",
     "output_type": "stream",
     "text": [
      "Requirement already satisfied: pytube3 in c:\\users\\abhishek\\anaconda3\\lib\\site-packages (9.6.4)\n",
      "Requirement already satisfied: typing-extensions in c:\\users\\abhishek\\anaconda3\\lib\\site-packages (from pytube3) (4.11.0)\n",
      "Note: you may need to restart the kernel to use updated packages.\n"
     ]
    }
   ],
   "source": [
    "# installing pytube this library allow you to interact with Youtube video\n",
    "pip install pytube3 "
   ]
  },
  {
   "cell_type": "code",
   "execution_count": 11,
   "id": "ca6eec53-c7f9-4521-9d3d-942ad7362dcd",
   "metadata": {},
   "outputs": [
    {
     "name": "stdout",
     "output_type": "stream",
     "text": [
      "Requirement already satisfied: pytube in c:\\users\\abhishek\\anaconda3\\lib\\site-packages (15.0.0)\n",
      "Note: you may need to restart the kernel to use updated packages.\n"
     ]
    }
   ],
   "source": [
    "\n",
    "pip install --upgrade pytube"
   ]
  },
  {
   "cell_type": "markdown",
   "id": "a1a2261a-75ca-4d82-a52e-f4ad2502f5c7",
   "metadata": {},
   "source": [
    "#### 2 download yt_dlp "
   ]
  },
  {
   "cell_type": "code",
   "execution_count": 16,
   "id": "854d2387-94e2-4782-a77a-7847da6b0296",
   "metadata": {},
   "outputs": [
    {
     "name": "stdout",
     "output_type": "stream",
     "text": [
      "Requirement already satisfied: yt_dlp in c:\\users\\abhishek\\anaconda3\\lib\\site-packages (2024.8.6)\n",
      "Requirement already satisfied: brotli in c:\\users\\abhishek\\anaconda3\\lib\\site-packages (from yt_dlp) (1.0.9)\n",
      "Requirement already satisfied: certifi in c:\\users\\abhishek\\anaconda3\\lib\\site-packages (from yt_dlp) (2024.7.4)\n",
      "Requirement already satisfied: mutagen in c:\\users\\abhishek\\anaconda3\\lib\\site-packages (from yt_dlp) (1.47.0)\n",
      "Requirement already satisfied: pycryptodomex in c:\\users\\abhishek\\anaconda3\\lib\\site-packages (from yt_dlp) (3.20.0)\n",
      "Requirement already satisfied: requests<3,>=2.32.2 in c:\\users\\abhishek\\anaconda3\\lib\\site-packages (from yt_dlp) (2.32.2)\n",
      "Requirement already satisfied: urllib3<3,>=1.26.17 in c:\\users\\abhishek\\anaconda3\\lib\\site-packages (from yt_dlp) (2.2.2)\n",
      "Requirement already satisfied: websockets>=12.0 in c:\\users\\abhishek\\anaconda3\\lib\\site-packages (from yt_dlp) (13.0.1)\n",
      "Requirement already satisfied: charset-normalizer<4,>=2 in c:\\users\\abhishek\\anaconda3\\lib\\site-packages (from requests<3,>=2.32.2->yt_dlp) (2.0.4)\n",
      "Requirement already satisfied: idna<4,>=2.5 in c:\\users\\abhishek\\anaconda3\\lib\\site-packages (from requests<3,>=2.32.2->yt_dlp) (3.7)\n",
      "Note: you may need to restart the kernel to use updated packages.\n"
     ]
    }
   ],
   "source": [
    "pip install yt_dlp\n"
   ]
  },
  {
   "cell_type": "markdown",
   "id": "0c2cba7d-de2f-41cb-a074-9e259e8c58bb",
   "metadata": {},
   "source": [
    "### 2 importing installed libraries "
   ]
  },
  {
   "cell_type": "code",
   "execution_count": 1,
   "id": "2f0c8e0b-4f63-40e4-ac39-08843667d29a",
   "metadata": {},
   "outputs": [],
   "source": [
    "from pytube import YouTube\n",
    "from yt_dlp import YoutubeDL"
   ]
  },
  {
   "cell_type": "markdown",
   "id": "8fc3d460-ae18-43a9-a856-95c18278f6a9",
   "metadata": {},
   "source": [
    "### 3 getting video link from the user"
   ]
  },
  {
   "cell_type": "code",
   "execution_count": 3,
   "id": "ef4dd667-0018-4d15-83d7-3e10f1e2a289",
   "metadata": {},
   "outputs": [
    {
     "name": "stdin",
     "output_type": "stream",
     "text": [
      "Enter a youtube video link  :  https://youtu.be/g1yirsZQCAE?si=RIJi7zQSYdpDYW31\n"
     ]
    }
   ],
   "source": [
    "link = input(\"Enter a youtube video link  : \")\n",
    "yt = YouTube(link) # link object of YouTube()"
   ]
  },
  {
   "cell_type": "markdown",
   "id": "340fadba-476c-442e-bf01-fcdd02bcc68d",
   "metadata": {},
   "source": [
    "### 4 Extracting video information "
   ]
  },
  {
   "cell_type": "code",
   "execution_count": 5,
   "id": "a6433975-2459-4c42-b3ae-89332e1fca77",
   "metadata": {},
   "outputs": [
    {
     "name": "stdout",
     "output_type": "stream",
     "text": [
      "Video title :  Alag Tujhme Asar Kuch Hai, Tum Se Kiran Dhoop Ki, Fida Hu Me To Ek Nazar Bs, Tum Se new song\n",
      "Video Duration :  322\n",
      " Video views :  2388177\n",
      "Video description  :  None\n",
      "Video rating :  None\n"
     ]
    }
   ],
   "source": [
    "# To print Title -> .title\n",
    "print(\"Video title : \",yt.title)\n",
    "# To print duration -> .length\n",
    "print(\"Video Duration : \",yt.length)\n",
    "# To print views -> .views\n",
    "print(\" Video views : \",yt.views)\n",
    "# To print description -> .description\n",
    "print(\"Video description  : \",yt.description)\n",
    "# To print rating -> .rating\n",
    "print(\"Video rating : \",yt.rating)\n"
   ]
  },
  {
   "cell_type": "code",
   "execution_count": 1,
   "id": "dc95bb5f-db7f-47b7-9e8d-6be16f769ac6",
   "metadata": {},
   "outputs": [
    {
     "name": "stdin",
     "output_type": "stream",
     "text": [
      "Would you like do dowload this video ? (yes/no) :  yes\n"
     ]
    },
    {
     "name": "stdout",
     "output_type": "stream",
     "text": [
      "Downloading.........\n",
      "[youtube] Extracting URL: https://youtu.be/g1yirsZQCAE?si=RIJi7zQSYdpDYW31\n",
      "[youtube] g1yirsZQCAE: Downloading webpage\n",
      "[youtube] g1yirsZQCAE: Downloading ios player API JSON\n",
      "[youtube] g1yirsZQCAE: Downloading web creator player API JSON\n",
      "[youtube] g1yirsZQCAE: Downloading player 3abab6ef\n",
      "[youtube] g1yirsZQCAE: Downloading m3u8 information\n",
      "[info] g1yirsZQCAE: Downloading 1 format(s): 18\n",
      "[download] Destination: Alag Tujhme Asar Kuch Hai, Tum Se Kiran Dhoop Ki, Fida Hu Me To Ek Nazar Bs, Tum Se new song [g1yirsZQCAE].mp4\n",
      "[download] 100% of   18.89MiB in 00:00:01 at 10.61MiB/s    \n",
      "Downloading Completed.\n"
     ]
    }
   ],
   "source": [
    "# scrip for download youtube video \n",
    "from yt_dlp import YoutubeDL\n",
    "\n",
    "download_option = input(\"Would you like do dowload this video ? (yes/no) : \").lower()\n",
    "\n",
    "if download_option == 'yes':\n",
    "    url = 'https://youtu.be/g1yirsZQCAE?si=RIJi7zQSYdpDYW31'\n",
    "    ydl_opts = {'format' :'best'}\n",
    "    with YoutubeDL(ydl_opts) as ydl:\n",
    "        print(\"Downloading.........\")\n",
    "        ydl.download([url])\n",
    "        print(\"Downloading Completed.\")\n",
    "    \n",
    "else:\n",
    "    print(\"Downloading aborted \")"
   ]
  },
  {
   "cell_type": "code",
   "execution_count": 3,
   "id": "f1f18b21-ef36-4aae-b0e2-d364e4124438",
   "metadata": {},
   "outputs": [],
   "source": [
    "# to check the download location "
   ]
  },
  {
   "cell_type": "code",
   "execution_count": 5,
   "id": "0a582f3d-2327-4798-ae22-d2430980f7c0",
   "metadata": {},
   "outputs": [
    {
     "data": {
      "text/plain": [
       "'C:\\\\Users\\\\Abhishek\\\\python code\\\\projects'"
      ]
     },
     "execution_count": 5,
     "metadata": {},
     "output_type": "execute_result"
    }
   ],
   "source": [
    "import os \n",
    "os.getcwd()"
   ]
  },
  {
   "cell_type": "code",
   "execution_count": null,
   "id": "509d3d9f-798e-4b84-af1c-f31e01288136",
   "metadata": {},
   "outputs": [],
   "source": []
  }
 ],
 "metadata": {
  "kernelspec": {
   "display_name": "Python 3 (ipykernel)",
   "language": "python",
   "name": "python3"
  },
  "language_info": {
   "codemirror_mode": {
    "name": "ipython",
    "version": 3
   },
   "file_extension": ".py",
   "mimetype": "text/x-python",
   "name": "python",
   "nbconvert_exporter": "python",
   "pygments_lexer": "ipython3",
   "version": "3.12.4"
  }
 },
 "nbformat": 4,
 "nbformat_minor": 5
}
